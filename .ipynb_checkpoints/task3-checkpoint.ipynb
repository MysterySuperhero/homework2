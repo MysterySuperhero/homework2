{
 "cells": [
  {
   "cell_type": "markdown",
   "metadata": {},
   "source": [
    "Задача № 1:  3\n",
    "\n",
    "Вариант 3. Thriller, Sci-Fi, Adventure\n",
    "\n",
    "Один фильм может принадлежать разным жанрам"
   ]
  },
  {
   "cell_type": "code",
   "execution_count": 12,
   "metadata": {},
   "outputs": [
    {
     "name": "stdout",
     "output_type": "stream",
     "text": [
      "+------+-------+------+---------+\n",
      "|userId|movieId|rating|timestamp|\n",
      "+------+-------+------+---------+\n",
      "|     1|      1|   4.0|964982703|\n",
      "|     1|      3|   4.0|964981247|\n",
      "|     1|      6|   4.0|964982224|\n",
      "|     1|     47|   5.0|964983815|\n",
      "|     1|     50|   5.0|964982931|\n",
      "+------+-------+------+---------+\n",
      "only showing top 5 rows\n",
      "\n"
     ]
    }
   ],
   "source": [
    "from pyspark import SparkContext\n",
    "from pyspark.sql import SQLContext\n",
    "from pyspark.sql import functions as F\n",
    "from pyspark.sql.functions import mean, lit, sum, count\n",
    "from pyspark.ml.evaluation import RegressionEvaluator\n",
    "\n",
    "sc = SparkContext.getOrCreate()\n",
    "sqlc = SQLContext(sc)\n",
    "\n",
    "small_ratings_path = \"/user/cloudera/hw2/task1/small/ratings.csv\"\n",
    "\n",
    "df_small_ratings = sqlContext.read.load(small_ratings_path, \n",
    "                          format=\"com.databricks.spark.csv\", \n",
    "                          header=\"true\", \n",
    "                          inferSchema=\"true\", sep=\",\")\n",
    "df_small_ratings.persist()\n",
    "df_small_ratings.show(5)"
   ]
  },
  {
   "cell_type": "code",
   "execution_count": 13,
   "metadata": {},
   "outputs": [
    {
     "data": {
      "text/plain": [
       "(80555, 20281)"
      ]
     },
     "execution_count": 13,
     "metadata": {},
     "output_type": "execute_result"
    }
   ],
   "source": [
    "df_train, df_test = df_small_ratings.randomSplit([0.8, 0.2], seed=12)\n",
    "df_train.persist(); df_test.persist()\n",
    "\n",
    "df_train.count(), df_test.count()"
   ]
  },
  {
   "cell_type": "code",
   "execution_count": 17,
   "metadata": {},
   "outputs": [
    {
     "name": "stdout",
     "output_type": "stream",
     "text": [
      "Mean rating: 3.501936565079759\n",
      "\n"
     ]
    }
   ],
   "source": [
    "mean_movie_rating = df_train.select(mean(\"rating\").alias(\"avr\")).collect()[0][\"avr\"]\n",
    "print(f'Mean rating: {small_mean_movie_rating}\\n')"
   ]
  },
  {
   "cell_type": "code",
   "execution_count": 18,
   "metadata": {},
   "outputs": [
    {
     "name": "stdout",
     "output_type": "stream",
     "text": [
      "+------+-------+------+---------+-----------------+\n",
      "|userId|movieId|rating|timestamp|       prediction|\n",
      "+------+-------+------+---------+-----------------+\n",
      "|     1|     70|   3.0|964982400|3.501936565079759|\n",
      "|     1|    157|   5.0|964984100|3.501936565079759|\n",
      "|     1|    163|   5.0|964983650|3.501936565079759|\n",
      "|     1|    260|   5.0|964981680|3.501936565079759|\n",
      "|     1|    441|   4.0|964980868|3.501936565079759|\n",
      "+------+-------+------+---------+-----------------+\n",
      "only showing top 5 rows\n",
      "\n",
      "RMSE: 1.0374281641248655\n",
      "\n"
     ]
    }
   ],
   "source": [
    "rmse_evaluator = RegressionEvaluator(metricName='rmse', labelCol='rating', predictionCol='prediction')\n",
    "\n",
    "df_test_with_prediction = df_test.withColumn('prediction', F.lit(mean_movie_rating))\n",
    "df_test_with_prediction.show(5)\n",
    "\n",
    "print(f'RMSE: {rmse_evaluator.evaluate(df_test_with_prediction)}\\n')"
   ]
  },
  {
   "cell_type": "code",
   "execution_count": 20,
   "metadata": {},
   "outputs": [],
   "source": [
    "from pyspark.ml.recommendation import ALS\n",
    "from pyspark.ml.tuning import CrossValidator, ParamGridBuilder\n",
    "\n",
    "# Параметры\n",
    "ranks = (5, 10, 15)  # Kоличество факторов\n",
    "regParams = (0.001, 0.01, 0.1, 1, 10)  # Pегуляризация\n",
    "kfolds = 4\n",
    "\n",
    "als = ALS(\n",
    "    seed=123,\n",
    "    maxIter=10,\n",
    "    numUserBlocks=10,\n",
    "    numItemBlocks=10,\n",
    "    userCol='userId',\n",
    "    itemCol='movieId',\n",
    "    ratingCol='rating',\n",
    "    coldStartStrategy='drop',\n",
    ")\n",
    "paramsGrid = (\n",
    "    ParamGridBuilder()\n",
    "        .addGrid(als.rank, ranks)\n",
    "        .addGrid(als.regParam, regParams)\n",
    "        .build()\n",
    ")\n",
    "cross_validator = CrossValidator(estimator=als,\n",
    "                                 estimatorParamMaps=paramsGrid,\n",
    "                                 evaluator=rmse_evaluator,\n",
    "                                 numFolds=kfolds)\n",
    "\n",
    "def calculate_rmse_for_best_als_model(df_train, df_test):\n",
    "    cv_model = cross_validator.fit(df_train)\n",
    "    print(f'Best rank: {cv_model.bestModel.rank}')\n",
    "    # FIXME(a.telyshev): py4j.Py4JException: Method getRegParam([]) does not exist\n",
    "    # print(f'Best regularization: {cv_model.bestModel._java_obj.getRegParam()}')\n",
    "    \n",
    "    predictions = cv_model.transform(df_test)\n",
    "    predictions.show(5)\n",
    "    \n",
    "    return rmse_evaluator.evaluate(predictions)"
   ]
  },
  {
   "cell_type": "code",
   "execution_count": 21,
   "metadata": {},
   "outputs": [
    {
     "name": "stdout",
     "output_type": "stream",
     "text": [
      "Small data processing...\n",
      "Best rank: 5\n",
      "+------+-------+------+----------+----------+\n",
      "|userId|movieId|rating| timestamp|prediction|\n",
      "+------+-------+------+----------+----------+\n",
      "|   133|    471|   4.0| 843491793| 2.5265322|\n",
      "|   182|    471|   4.5|1054779644| 4.1597166|\n",
      "|   218|    471|   4.0|1111624874| 3.3507972|\n",
      "|   474|    471|   3.0| 974668858| 2.8759074|\n",
      "|   387|    471|   3.0|1139047519| 3.3282547|\n",
      "+------+-------+------+----------+----------+\n",
      "only showing top 5 rows\n",
      "\n",
      "RMSE: 0.8828629996870051\n",
      "\n"
     ]
    }
   ],
   "source": [
    "print('Small data processing...')\n",
    "print(f'RMSE: {calculate_rmse_for_best_als_model(df_train, df_test)}\\n')"
   ]
  },
  {
   "cell_type": "code",
   "execution_count": null,
   "metadata": {},
   "outputs": [],
   "source": []
  }
 ],
 "metadata": {
  "kernelspec": {
   "display_name": "Python 3",
   "language": "python",
   "name": "python3"
  },
  "language_info": {
   "codemirror_mode": {
    "name": "ipython",
    "version": 3
   },
   "file_extension": ".py",
   "mimetype": "text/x-python",
   "name": "python",
   "nbconvert_exporter": "python",
   "pygments_lexer": "ipython3",
   "version": "3.6.3"
  }
 },
 "nbformat": 4,
 "nbformat_minor": 2
}
