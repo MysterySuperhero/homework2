{
 "cells": [
  {
   "cell_type": "markdown",
   "metadata": {},
   "source": [
    "Задача № 1:  3\n",
    "\n",
    "Вариант 3. Thriller, Sci-Fi, Adventure\n",
    "\n",
    "Один фильм может принадлежать разным жанрам"
   ]
  },
  {
   "cell_type": "code",
   "execution_count": 6,
   "metadata": {},
   "outputs": [],
   "source": [
    "from pyspark import SparkContext\n",
    "from pyspark.sql import SQLContext\n",
    "import pyspark.sql.functions as F\n",
    "from pyspark.sql import Row\n",
    "from pyspark.sql.types import IntegerType, StructType, StructField, StringType, LongType, DoubleType\n",
    "\n",
    "sc = SparkContext.getOrCreate()\n",
    "sqlc = SQLContext(sc)\n",
    "\n",
    "small_movies_path = \"/user/cloudera/hw2/task1/small/movies.csv\"\n",
    "small_ratings_path = \"/user/cloudera/hw2/task1/small/ratings.csv\"\n",
    "\n",
    "genres = [\"Thriller\", \"Sci-Fi\", \"Adventure\"]\n",
    "\n",
    "movies_schema = StructType([\n",
    "    StructField(\"id\", IntegerType()),\n",
    "    StructField(\"title\", StringType()),\n",
    "    StructField(\"genres\", StringType())\n",
    "])\n",
    "\n",
    "ratings_schema = StructType([\n",
    "    StructField(\"user_id\", IntegerType()),\n",
    "    StructField(\"movie_id\", IntegerType()),\n",
    "    StructField(\"rating\", DoubleType()),\n",
    "    StructField(\"timestamp\", LongType())\n",
    "])\n",
    "\n",
    "df_small_movies = spark.read.csv(small_movies_path, header=True, schema=movies_schema)\n",
    "df_small_ratings = spark.read.csv(small_ratings_path, header=True, schema=ratings_schema)"
   ]
  },
  {
   "cell_type": "code",
   "execution_count": 7,
   "metadata": {},
   "outputs": [
    {
     "name": "stdout",
     "output_type": "stream",
     "text": [
      "root\n",
      " |-- id: integer (nullable = true)\n",
      " |-- title: string (nullable = true)\n",
      " |-- genres: string (nullable = true)\n",
      "\n",
      "+---+--------------------+--------------------+\n",
      "| id|               title|              genres|\n",
      "+---+--------------------+--------------------+\n",
      "|  1|    Toy Story (1995)|Adventure|Animati...|\n",
      "|  2|      Jumanji (1995)|Adventure|Childre...|\n",
      "|  3|Grumpier Old Men ...|      Comedy|Romance|\n",
      "|  4|Waiting to Exhale...|Comedy|Drama|Romance|\n",
      "|  5|Father of the Bri...|              Comedy|\n",
      "+---+--------------------+--------------------+\n",
      "only showing top 5 rows\n",
      "\n"
     ]
    }
   ],
   "source": [
    "df_small_movies.persist()\n",
    "df_small_movies.printSchema()\n",
    "df_small_movies.show(5)"
   ]
  },
  {
   "cell_type": "code",
   "execution_count": 8,
   "metadata": {},
   "outputs": [
    {
     "name": "stdout",
     "output_type": "stream",
     "text": [
      "root\n",
      " |-- user_id: integer (nullable = true)\n",
      " |-- movie_id: integer (nullable = true)\n",
      " |-- rating: double (nullable = true)\n",
      " |-- timestamp: long (nullable = true)\n",
      "\n",
      "+-------+--------+------+---------+\n",
      "|user_id|movie_id|rating|timestamp|\n",
      "+-------+--------+------+---------+\n",
      "|      1|       1|   4.0|964982703|\n",
      "|      1|       3|   4.0|964981247|\n",
      "|      1|       6|   4.0|964982224|\n",
      "|      1|      47|   5.0|964983815|\n",
      "|      1|      50|   5.0|964982931|\n",
      "+-------+--------+------+---------+\n",
      "only showing top 5 rows\n",
      "\n"
     ]
    }
   ],
   "source": [
    "df_small_ratings.persist()\n",
    "df_small_ratings.printSchema()\n",
    "df_small_ratings.show(5)"
   ]
  },
  {
   "cell_type": "markdown",
   "metadata": {},
   "source": [
    "1. Выведите данные, сопоставляющие жанры и количество фильмов"
   ]
  },
  {
   "cell_type": "code",
   "execution_count": 9,
   "metadata": {},
   "outputs": [
    {
     "name": "stdout",
     "output_type": "stream",
     "text": [
      "Thriller: 1894\n",
      "Sci-Fi: 980\n",
      "Adventure: 1263\n"
     ]
    }
   ],
   "source": [
    "def genre_count(data_frame, genre):\n",
    "    return str(\n",
    "        data_frame\n",
    "            .filter(F.col('genres').contains(genre))\n",
    "            .select(F.countDistinct('id'))\n",
    "            .take(1)[0][0]\n",
    "    )\n",
    "\n",
    "for genre in genres:\n",
    "    print('{0}: {1}'.format(genre, genre_count(df_small_movies, genre)))"
   ]
  },
  {
   "cell_type": "markdown",
   "metadata": {},
   "source": [
    "2. Выведите первые 10 фильмов с наибольшим количеством рейтингов для каждого жанра в соотвествии с вариантом"
   ]
  },
  {
   "cell_type": "code",
   "execution_count": 12,
   "metadata": {},
   "outputs": [
    {
     "name": "stdout",
     "output_type": "stream",
     "text": [
      "Genre: Thriller\n",
      "+----+--------------------+--------------------+-----+\n",
      "|  id|               title|              genres|count|\n",
      "+----+--------------------+--------------------+-----+\n",
      "| 296| Pulp Fiction (1994)|Comedy|Crime|Dram...|  307|\n",
      "| 593|Silence of the La...|Crime|Horror|Thri...|  279|\n",
      "|2571|  Matrix, The (1999)|Action|Sci-Fi|Thr...|  278|\n",
      "| 480|Jurassic Park (1993)|Action|Adventure|...|  238|\n",
      "|2959|   Fight Club (1999)|Action|Crime|Dram...|  218|\n",
      "|  50|Usual Suspects, T...|Crime|Mystery|Thr...|  204|\n",
      "|  47|Seven (a.k.a. Se7...|    Mystery|Thriller|  203|\n",
      "| 780|Independence Day ...|Action|Adventure|...|  202|\n",
      "| 457|Fugitive, The (1993)|            Thriller|  190|\n",
      "| 592|       Batman (1989)|Action|Crime|Thri...|  189|\n",
      "+----+--------------------+--------------------+-----+\n",
      "\n",
      "Genre: Sci-Fi\n",
      "+----+--------------------+--------------------+-----+\n",
      "|  id|               title|              genres|count|\n",
      "+----+--------------------+--------------------+-----+\n",
      "|2571|  Matrix, The (1999)|Action|Sci-Fi|Thr...|  278|\n",
      "| 260|Star Wars: Episod...|Action|Adventure|...|  251|\n",
      "| 480|Jurassic Park (1993)|Action|Adventure|...|  238|\n",
      "| 589|Terminator 2: Jud...|       Action|Sci-Fi|  224|\n",
      "|1196|Star Wars: Episod...|Action|Adventure|...|  211|\n",
      "| 780|Independence Day ...|Action|Adventure|...|  202|\n",
      "|1210|Star Wars: Episod...|Action|Adventure|...|  196|\n",
      "|  32|Twelve Monkeys (a...|Mystery|Sci-Fi|Th...|  177|\n",
      "|1270|Back to the Futur...|Adventure|Comedy|...|  171|\n",
      "|1580|Men in Black (a.k...|Action|Comedy|Sci-Fi|  165|\n",
      "+----+--------------------+--------------------+-----+\n",
      "\n",
      "Genre: Adventure\n",
      "+----+--------------------+--------------------+-----+\n",
      "|  id|               title|              genres|count|\n",
      "+----+--------------------+--------------------+-----+\n",
      "| 260|Star Wars: Episod...|Action|Adventure|...|  251|\n",
      "| 480|Jurassic Park (1993)|Action|Adventure|...|  238|\n",
      "|   1|    Toy Story (1995)|Adventure|Animati...|  215|\n",
      "|1196|Star Wars: Episod...|Action|Adventure|...|  211|\n",
      "| 780|Independence Day ...|Action|Adventure|...|  202|\n",
      "| 150|    Apollo 13 (1995)|Adventure|Drama|IMAX|  201|\n",
      "|1198|Raiders of the Lo...|    Action|Adventure|  200|\n",
      "|4993|Lord of the Rings...|   Adventure|Fantasy|  198|\n",
      "|1210|Star Wars: Episod...|Action|Adventure|...|  196|\n",
      "|5952|Lord of the Rings...|   Adventure|Fantasy|  188|\n",
      "+----+--------------------+--------------------+-----+\n",
      "\n"
     ]
    }
   ],
   "source": [
    "def most_rated_movies(df_movies, df_ratings):\n",
    "    df_movies_and_ratings = (df_movies\n",
    "                             .alias('movies')\n",
    "                             .join(df_ratings.alias('ratings'), F.col('movies.id') == F.col('ratings.movie_id'))\n",
    "                             .select('movies.id', 'movies.title', 'movies.genres'))\n",
    "    for genre in genres:\n",
    "        print(\"Genre: {0}\".format(genre))\n",
    "        joined = (df_movies_and_ratings\n",
    "            .alias('movies_and_ratings')\n",
    "            .filter(F.col('genres').contains(genre))\n",
    "            .groupBy('id')\n",
    "            .count()\n",
    "            .sort(F.desc('count'))\n",
    "            .join(df_movies.alias('movies'), F.col('movies.id') == F.col('movies_and_ratings.id'))\n",
    "            .limit(10))\n",
    "            \n",
    "        joined.select('movies.id', 'movies.title', 'movies.genres', 'count').show(10)\n",
    "        \n",
    "most_rated_movies(df_small_movies, df_small_ratings)"
   ]
  },
  {
   "cell_type": "raw",
   "metadata": {},
   "source": [
    "3. Выведите первые 10 фильмов с наименьшим количеством рейтингов (но больше 10) для каждого жанра в соотвествии с вариантом"
   ]
  },
  {
   "cell_type": "code",
   "execution_count": 29,
   "metadata": {},
   "outputs": [
    {
     "name": "stdout",
     "output_type": "stream",
     "text": [
      "Genre: Thriller\n",
      "+------+--------------------+--------------------+-----+\n",
      "|    id|               title|              genres|count|\n",
      "+------+--------------------+--------------------+-----+\n",
      "|  1342|     Candyman (1992)|     Horror|Thriller|   11|\n",
      "|  2122|Children of the C...|     Horror|Thriller|   11|\n",
      "|  1483|        Crash (1996)|      Drama|Thriller|   11|\n",
      "| 64983|     Valkyrie (2008)|  Drama|Thriller|War|   11|\n",
      "|159093|Now You See Me 2 ...|Action|Comedy|Thr...|   11|\n",
      "|  4326|Mississippi Burni...|Crime|Drama|Thriller|   11|\n",
      "|  1480|Smilla's Sense of...|      Drama|Thriller|   11|\n",
      "|  3741|     Badlands (1973)|Crime|Drama|Thriller|   11|\n",
      "| 46335|Fast and the Furi...|Action|Crime|Dram...|   11|\n",
      "|  2414|Young Sherlock Ho...|Action|Adventure|...|   11|\n",
      "+------+--------------------+--------------------+-----+\n",
      "\n",
      "Genre: Sci-Fi\n",
      "+------+--------------------+--------------------+-----+\n",
      "|    id|               title|              genres|count|\n",
      "+------+--------------------+--------------------+-----+\n",
      "|  6294|Bulletproof Monk ...|Action|Adventure|...|   11|\n",
      "|  2346|Stepford Wives, T...|Mystery|Sci-Fi|Th...|   11|\n",
      "|122906|Black Panther (2017)|Action|Adventure|...|   11|\n",
      "|110553|The Amazing Spide...|  Action|Sci-Fi|IMAX|   11|\n",
      "|  2827|Astronaut's Wife,...|Horror|Sci-Fi|Thr...|   11|\n",
      "| 87520|Transformers: Dar...|Action|Adventure|...|   11|\n",
      "|  2648| Frankenstein (1931)| Drama|Horror|Sci-Fi|   11|\n",
      "| 93363|  John Carter (2012)|Action|Adventure|...|   11|\n",
      "| 52287|Meet the Robinson...|Action|Adventure|...|   11|\n",
      "|  3503|Solaris (Solyaris...|Drama|Mystery|Sci-Fi|   11|\n",
      "+------+--------------------+--------------------+-----+\n",
      "\n",
      "Genre: Adventure\n",
      "+----+--------------------+--------------------+-----+\n",
      "|  id|               title|              genres|count|\n",
      "+----+--------------------+--------------------+-----+\n",
      "|7324|      Hidalgo (2004)|     Adventure|Drama|   11|\n",
      "|2414|Young Sherlock Ho...|Action|Adventure|...|   11|\n",
      "| 599|Wild Bunch, The (...|   Adventure|Western|   11|\n",
      "|6294|Bulletproof Monk ...|Action|Adventure|...|   11|\n",
      "| 631|All Dogs Go to He...|Adventure|Animati...|   11|\n",
      "|1615|    Edge, The (1997)|     Adventure|Drama|   11|\n",
      "| 709|Oliver & Company ...|Adventure|Animati...|   11|\n",
      "|2822| Medicine Man (1992)|   Adventure|Romance|   11|\n",
      "|2153|Avengers, The (1998)|    Action|Adventure|   11|\n",
      "|7247|Chitty Chitty Ban...|Adventure|Childre...|   11|\n",
      "+----+--------------------+--------------------+-----+\n",
      "\n"
     ]
    }
   ],
   "source": [
    "def least_rated_movies(df_movies, df_ratings):\n",
    "    df_movies_and_ratings = (df_movies\n",
    "                             .alias('movies')\n",
    "                             .join(df_ratings.alias('ratings'), F.col('movies.id') == F.col('ratings.movie_id'))\n",
    "                             .select('movies.id', 'movies.title', 'movies.genres'))\n",
    "    for genre in genres:\n",
    "        print(\"Genre: {0}\".format(genre))\n",
    "        joined = (df_movies_and_ratings\n",
    "            .alias('movies_and_ratings')\n",
    "            .filter(F.col('genres').contains(genre))\n",
    "            .groupBy('id')\n",
    "            .count()\n",
    "            .filter('`count` > 10')\n",
    "            .sort(F.asc('count'))\n",
    "            .join(df_movies.alias('movies'), F.col('movies.id') == F.col('movies_and_ratings.id'))\n",
    "            .limit(10))\n",
    "            \n",
    "        joined.select('movies.id', 'movies.title', 'movies.genres', 'count').show()\n",
    "        \n",
    "least_rated_movies(df_small_movies, df_small_ratings)"
   ]
  },
  {
   "cell_type": "markdown",
   "metadata": {},
   "source": [
    "4. Выведите первые 10 фильмов с наибольшим средним рейтингом при количестве рейтингов больше 10 для каждого жанра в соотвествии с вариантом"
   ]
  },
  {
   "cell_type": "code",
   "execution_count": 44,
   "metadata": {},
   "outputs": [
    {
     "name": "stdout",
     "output_type": "stream",
     "text": [
      "Genre: Thriller\n",
      "+-----+--------------------+--------------------+-----+-----------------+\n",
      "|   id|               title|              genres|count|              avg|\n",
      "+-----+--------------------+--------------------+-----+-----------------+\n",
      "| 2959|   Fight Club (1999)|Action|Crime|Dram...|  218|4.272935779816514|\n",
      "| 1248|Touch of Evil (1958)|Crime|Film-Noir|T...|   17|4.264705882352941|\n",
      "|  904|  Rear Window (1954)|    Mystery|Thriller|   84|4.261904761904762|\n",
      "|48516|Departed, The (2006)|Crime|Drama|Thriller|  107|4.252336448598131|\n",
      "| 1267|Manchurian Candid...|  Crime|Thriller|War|   30|             4.25|\n",
      "|  930|    Notorious (1946)|Film-Noir|Romance...|   20|             4.25|\n",
      "| 3508|Outlaw Josey Wale...|Action|Adventure|...|   18|             4.25|\n",
      "|   50|Usual Suspects, T...|Crime|Mystery|Thr...|  204|4.237745098039215|\n",
      "| 1212|Third Man, The (1...|Film-Noir|Mystery...|   24|4.229166666666667|\n",
      "| 1245|Miller's Crossing...|Crime|Drama|Film-...|   20|            4.225|\n",
      "+-----+--------------------+--------------------+-----+-----------------+\n",
      "\n",
      "Genre: Sci-Fi\n",
      "+------+--------------------+--------------------+-----+------------------+\n",
      "|    id|               title|              genres|count|               avg|\n",
      "+------+--------------------+--------------------+-----+------------------+\n",
      "|168252|        Logan (2017)|       Action|Sci-Fi|   25|              4.28|\n",
      "|   260|Star Wars: Episod...|Action|Adventure|...|  251| 4.231075697211155|\n",
      "|  1196|Star Wars: Episod...|Action|Adventure|...|  211|4.2156398104265405|\n",
      "|  2571|  Matrix, The (1999)|Action|Sci-Fi|Thr...|  278| 4.192446043165468|\n",
      "|  1199|       Brazil (1985)|      Fantasy|Sci-Fi|   59| 4.177966101694915|\n",
      "|  7361|Eternal Sunshine ...|Drama|Romance|Sci-Fi|  131|4.1603053435114505|\n",
      "|   741|Ghost in the Shel...|    Animation|Sci-Fi|   27| 4.148148148148148|\n",
      "|  1210|Star Wars: Episod...|Action|Adventure|...|  196| 4.137755102040816|\n",
      "|   541| Blade Runner (1982)|Action|Sci-Fi|Thr...|  124| 4.100806451612903|\n",
      "|  3503|Solaris (Solyaris...|Drama|Mystery|Sci-Fi|   11| 4.090909090909091|\n",
      "+------+--------------------+--------------------+-----+------------------+\n",
      "\n",
      "Genre: Adventure\n",
      "+----+--------------------+--------------------+-----+------------------+\n",
      "|  id|               title|              genres|count|               avg|\n",
      "+----+--------------------+--------------------+-----+------------------+\n",
      "|1204|Lawrence of Arabi...| Adventure|Drama|War|   45|               4.3|\n",
      "|3508|Outlaw Josey Wale...|Action|Adventure|...|   18|              4.25|\n",
      "|1197|Princess Bride, T...|Action|Adventure|...|  142| 4.232394366197183|\n",
      "| 260|Star Wars: Episod...|Action|Adventure|...|  251| 4.231075697211155|\n",
      "|3030|      Yojimbo (1961)|    Action|Adventure|   13| 4.230769230769231|\n",
      "|1196|Star Wars: Episod...|Action|Adventure|...|  211|4.2156398104265405|\n",
      "|1198|Raiders of the Lo...|    Action|Adventure|  200|            4.2075|\n",
      "|2019|Seven Samurai (Sh...|Action|Adventure|...|   48|            4.1875|\n",
      "| 908|North by Northwes...|Action|Adventure|...|   57| 4.184210526315789|\n",
      "|1136|Monty Python and ...|Adventure|Comedy|...|  136| 4.161764705882353|\n",
      "+----+--------------------+--------------------+-----+------------------+\n",
      "\n"
     ]
    }
   ],
   "source": [
    "def max_avg_rating(df_movies, df_ratings):\n",
    "    df_movies_and_ratings = (df_movies\n",
    "                             .alias('movies')\n",
    "                             .join(df_ratings.alias('ratings'), F.col('movies.id') == F.col('ratings.movie_id'))\n",
    "                             .select('movies.id', 'movies.title', 'movies.genres', 'ratings.rating'))\n",
    "    for genre in genres:\n",
    "        print(\"Genre: {0}\".format(genre))\n",
    "        joined = (df_movies_and_ratings\n",
    "            .alias('movies_and_ratings')\n",
    "            .filter(F.col('genres').contains(genre))\n",
    "            .groupBy('id')\n",
    "            .agg(F.count('title').alias('count'), F.avg('rating').alias('avg'))\n",
    "            .filter('`count` > 10')\n",
    "            .sort(F.desc('avg'))\n",
    "            .join(df_movies.alias('movies'), F.col('movies.id') == F.col('movies_and_ratings.id'))\n",
    "            .limit(10))\n",
    "            \n",
    "        joined.select('movies.id', 'movies.title', 'movies.genres', 'count', 'avg').show()\n",
    "        \n",
    "max_avg_rating(df_small_movies, df_small_ratings)"
   ]
  },
  {
   "cell_type": "markdown",
   "metadata": {},
   "source": [
    "5. Выведите первые 10 фильмов с наименьшим средним рейтингом при количестве рейтингов больше 10 для каждого жанра в соотвествии с вариантом"
   ]
  },
  {
   "cell_type": "code",
   "execution_count": 45,
   "metadata": {},
   "outputs": [
    {
     "name": "stdout",
     "output_type": "stream",
     "text": [
      "Genre: Thriller\n",
      "+-----+--------------------+--------------------+-----+------------------+\n",
      "|   id|               title|              genres|count|               avg|\n",
      "+-----+--------------------+--------------------+-----+------------------+\n",
      "| 1556|Speed 2: Cruise C...|Action|Romance|Th...|   19| 1.605263157894737|\n",
      "| 2404|    Rambo III (1988)|Action|Adventure|...|   12|1.9166666666666667|\n",
      "|43928|  Ultraviolet (2006)|Action|Fantasy|Sc...|   13|1.9230769230769231|\n",
      "| 1499|     Anaconda (1997)|Action|Adventure|...|   27|1.9259259259259258|\n",
      "| 1882|     Godzilla (1998)|Action|Sci-Fi|Thr...|   33|1.9545454545454546|\n",
      "| 2338|I Still Know What...|Horror|Mystery|Th...|   18|2.0555555555555554|\n",
      "|46335|Fast and the Furi...|Action|Crime|Dram...|   11| 2.090909090909091|\n",
      "| 1515|      Volcano (1997)|Action|Drama|Thri...|   15|               2.1|\n",
      "| 1644|I Know What You D...|Horror|Mystery|Th...|   32|          2.109375|\n",
      "| 2719|Haunting, The (1999)|     Horror|Thriller|   13|2.1153846153846154|\n",
      "+-----+--------------------+--------------------+-----+------------------+\n",
      "\n",
      "Genre: Sci-Fi\n",
      "+-----+--------------------+--------------------+-----+------------------+\n",
      "|   id|               title|              genres|count|               avg|\n",
      "+-----+--------------------+--------------------+-----+------------------+\n",
      "| 3593|Battlefield Earth...|       Action|Sci-Fi|   19|1.6578947368421053|\n",
      "| 2643|Superman IV: The ...|Action|Adventure|...|   16|            1.6875|\n",
      "|43928|  Ultraviolet (2006)|Action|Fantasy|Sc...|   13|1.9230769230769231|\n",
      "| 1882|     Godzilla (1998)|Action|Sci-Fi|Thr...|   33|1.9545454545454546|\n",
      "|  546|Super Mario Bros....|Action|Adventure|...|   21|               2.0|\n",
      "| 2053|Honey, I Blew Up ...|Children|Comedy|S...|   20|              2.05|\n",
      "| 2450|Howard the Duck (...|Adventure|Comedy|...|   16|           2.15625|\n",
      "| 2808|Universal Soldier...|       Action|Sci-Fi|   17|2.2058823529411766|\n",
      "| 2701|Wild Wild West (1...|Action|Comedy|Sci...|   53| 2.207547169811321|\n",
      "| 2642| Superman III (1983)|Action|Adventure|...|   22|              2.25|\n",
      "+-----+--------------------+--------------------+-----+------------------+\n",
      "\n",
      "Genre: Adventure\n",
      "+-----+--------------------+--------------------+-----+------------------+\n",
      "|   id|               title|              genres|count|               avg|\n",
      "+-----+--------------------+--------------------+-----+------------------+\n",
      "| 2643|Superman IV: The ...|Action|Adventure|...|   16|            1.6875|\n",
      "| 2422|Karate Kid, Part ...|Action|Adventure|...|   14|              1.75|\n",
      "| 3997|Dungeons & Dragon...|Action|Adventure|...|   12|1.8333333333333333|\n",
      "| 2404|    Rambo III (1988)|Action|Adventure|...|   12|1.9166666666666667|\n",
      "| 1499|     Anaconda (1997)|Action|Adventure|...|   27|1.9259259259259258|\n",
      "|  546|Super Mario Bros....|Action|Adventure|...|   21|               2.0|\n",
      "| 3440|Teenage Mutant Ni...|Action|Adventure|...|   14|2.0714285714285716|\n",
      "|34520|Dukes of Hazzard,...|Action|Adventure|...|   12|2.0833333333333335|\n",
      "| 2720|Inspector Gadget ...|Action|Adventure|...|   21|2.0952380952380953|\n",
      "| 2450|Howard the Duck (...|Adventure|Comedy|...|   16|           2.15625|\n",
      "+-----+--------------------+--------------------+-----+------------------+\n",
      "\n"
     ]
    }
   ],
   "source": [
    "def min_avg_rating(df_movies, df_ratings):\n",
    "    df_movies_and_ratings = (df_movies\n",
    "                             .alias('movies')\n",
    "                             .join(df_ratings.alias('ratings'), F.col('movies.id') == F.col('ratings.movie_id'))\n",
    "                             .select('movies.id', 'movies.title', 'movies.genres', 'ratings.rating'))\n",
    "    for genre in genres:\n",
    "        print(\"Genre: {0}\".format(genre))\n",
    "        joined = (df_movies_and_ratings\n",
    "            .alias('movies_and_ratings')\n",
    "            .filter(F.col('genres').contains(genre))\n",
    "            .groupBy('id')\n",
    "            .agg(F.count('title').alias('count'), F.avg('rating').alias('avg'))\n",
    "            .filter('`count` > 10')\n",
    "            .sort(F.asc('avg'))\n",
    "            .join(df_movies.alias('movies'), F.col('movies.id') == F.col('movies_and_ratings.id'))\n",
    "            .limit(10))\n",
    "            \n",
    "        joined.select('movies.id', 'movies.title', 'movies.genres', 'count', 'avg').show()\n",
    "        \n",
    "min_avg_rating(df_small_movies, df_small_ratings)"
   ]
  },
  {
   "cell_type": "code",
   "execution_count": null,
   "metadata": {},
   "outputs": [],
   "source": []
  },
  {
   "cell_type": "code",
   "execution_count": null,
   "metadata": {},
   "outputs": [],
   "source": []
  }
 ],
 "metadata": {
  "kernelspec": {
   "display_name": "Python 3",
   "language": "python",
   "name": "python3"
  },
  "language_info": {
   "codemirror_mode": {
    "name": "ipython",
    "version": 3
   },
   "file_extension": ".py",
   "mimetype": "text/x-python",
   "name": "python",
   "nbconvert_exporter": "python",
   "pygments_lexer": "ipython3",
   "version": "3.6.3"
  }
 },
 "nbformat": 4,
 "nbformat_minor": 2
}
